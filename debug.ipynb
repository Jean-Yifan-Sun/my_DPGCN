{
 "cells": [
  {
   "cell_type": "code",
   "execution_count": 2,
   "metadata": {},
   "outputs": [
    {
     "data": {
      "text/plain": [
       "[]"
      ]
     },
     "execution_count": 2,
     "metadata": {},
     "output_type": "execute_result"
    }
   ],
   "source": [
    "list(range(0))"
   ]
  },
  {
   "cell_type": "code",
   "execution_count": 3,
   "metadata": {},
   "outputs": [
    {
     "data": {
      "text/plain": [
       "[0]"
      ]
     },
     "execution_count": 3,
     "metadata": {},
     "output_type": "execute_result"
    }
   ],
   "source": [
    "list(range(1))"
   ]
  },
  {
   "cell_type": "code",
   "execution_count": 4,
   "metadata": {},
   "outputs": [
    {
     "data": {
      "text/plain": [
       "_StoreAction(option_strings=['--mojo'], dest='mojo', nargs='+', const=None, default=None, type=None, choices=None, help=None, metavar=None)"
      ]
     },
     "execution_count": 4,
     "metadata": {},
     "output_type": "execute_result"
    }
   ],
   "source": [
    "import argparse\n",
    "argparser = argparse.ArgumentParser()\n",
    "argparser.add_argument(\"--mojo\",nargs=\"+\")"
   ]
  },
  {
   "cell_type": "code",
   "execution_count": 5,
   "metadata": {},
   "outputs": [],
   "source": [
    "from torch_geometric import datasets"
   ]
  },
  {
   "cell_type": "code",
   "execution_count": 6,
   "metadata": {},
   "outputs": [
    {
     "name": "stderr",
     "output_type": "stream",
     "text": [
      "/data01/sunyifan/resources/miniconda3/envs/mygcn/lib/python3.8/site-packages/torch_geometric/data/in_memory_dataset.py:157: UserWarning: It is not recommended to directly access the internal storage format `data` of an 'InMemoryDataset'. If you are absolutely certain what you are doing, access the internal storage via `InMemoryDataset._data` instead to suppress this warning. Alternatively, you can access stacked individual attributes of every graph via `dataset.{attr_name}`.\n",
      "  warnings.warn(msg)\n"
     ]
    },
    {
     "data": {
      "text/plain": [
       "Data(x=[34, 34], edge_index=[2, 156], y=[34], train_mask=[34])"
      ]
     },
     "execution_count": 6,
     "metadata": {},
     "output_type": "execute_result"
    }
   ],
   "source": [
    "karat = datasets.KarateClub()\n",
    "karat.data"
   ]
  },
  {
   "cell_type": "code",
   "execution_count": 7,
   "metadata": {},
   "outputs": [],
   "source": [
    "gnb = datasets.GNNBenchmarkDataset(root='/data01/sunyifan/work_station/my_gcn/data',name='CIFAR10')"
   ]
  },
  {
   "cell_type": "code",
   "execution_count": 8,
   "metadata": {},
   "outputs": [
    {
     "data": {
      "text/plain": [
       "45000"
      ]
     },
     "execution_count": 8,
     "metadata": {},
     "output_type": "execute_result"
    }
   ],
   "source": [
    "gnb.len()\n"
   ]
  },
  {
   "cell_type": "code",
   "execution_count": 9,
   "metadata": {},
   "outputs": [
    {
     "data": {
      "text/plain": [
       "1000"
      ]
     },
     "execution_count": 9,
     "metadata": {},
     "output_type": "execute_result"
    }
   ],
   "source": [
    "root='/data01/sunyifan/work_station/my_gcn/data'\n",
    "amazon = datasets.Amazon(root=root,name=\"Photo\")\n",
    "mutag = datasets.TUDataset(root=root,name=\"IMDB-BINARY\")\n",
    "mutag.len()"
   ]
  },
  {
   "cell_type": "code",
   "execution_count": 10,
   "metadata": {},
   "outputs": [
    {
     "data": {
      "text/plain": [
       "Data(edge_index=[2, 146], y=[1], num_nodes=20)"
      ]
     },
     "execution_count": 10,
     "metadata": {},
     "output_type": "execute_result"
    }
   ],
   "source": [
    "mutag[0]"
   ]
  },
  {
   "cell_type": "code",
   "execution_count": 11,
   "metadata": {},
   "outputs": [
    {
     "data": {
      "text/plain": [
       "1"
      ]
     },
     "execution_count": 11,
     "metadata": {},
     "output_type": "execute_result"
    }
   ],
   "source": [
    "amazon.len()"
   ]
  },
  {
   "cell_type": "code",
   "execution_count": 12,
   "metadata": {},
   "outputs": [
    {
     "data": {
      "text/plain": [
       "Data(x=[7650, 745], edge_index=[2, 238162], y=[7650])"
      ]
     },
     "execution_count": 12,
     "metadata": {},
     "output_type": "execute_result"
    }
   ],
   "source": [
    "amazon[0]"
   ]
  },
  {
   "cell_type": "code",
   "execution_count": 32,
   "metadata": {},
   "outputs": [],
   "source": [
    "import torch\n",
    "indices = torch.tensor(range(7650))"
   ]
  },
  {
   "cell_type": "code",
   "execution_count": 33,
   "metadata": {},
   "outputs": [
    {
     "data": {
      "text/plain": [
       "Data(x=[7650, 745], edge_index=[2, 238162], y=[7650])"
      ]
     },
     "execution_count": 33,
     "metadata": {},
     "output_type": "execute_result"
    }
   ],
   "source": [
    "amazon[0].subgraph(indices)"
   ]
  },
  {
   "cell_type": "code",
   "execution_count": 15,
   "metadata": {},
   "outputs": [
    {
     "data": {
      "text/plain": [
       "8"
      ]
     },
     "execution_count": 15,
     "metadata": {},
     "output_type": "execute_result"
    }
   ],
   "source": [
    "amazon.num_classes"
   ]
  },
  {
   "cell_type": "code",
   "execution_count": 16,
   "metadata": {},
   "outputs": [
    {
     "data": {
      "text/plain": [
       "745"
      ]
     },
     "execution_count": 16,
     "metadata": {},
     "output_type": "execute_result"
    }
   ],
   "source": [
    "amazon.num_node_features"
   ]
  },
  {
   "cell_type": "code",
   "execution_count": 17,
   "metadata": {},
   "outputs": [
    {
     "data": {
      "text/plain": [
       "1"
      ]
     },
     "execution_count": 17,
     "metadata": {},
     "output_type": "execute_result"
    }
   ],
   "source": [
    "cora = datasets.Planetoid(root=root,name=\"Cora\")\n",
    "cora.len()"
   ]
  },
  {
   "cell_type": "code",
   "execution_count": 18,
   "metadata": {},
   "outputs": [
    {
     "data": {
      "text/plain": [
       "tensor([3, 4, 4,  ..., 3, 3, 3])"
      ]
     },
     "execution_count": 18,
     "metadata": {},
     "output_type": "execute_result"
    }
   ],
   "source": [
    "cora[0].y"
   ]
  },
  {
   "cell_type": "code",
   "execution_count": 19,
   "metadata": {},
   "outputs": [
    {
     "data": {
      "text/plain": [
       "torch.Size([2708, 7])"
      ]
     },
     "execution_count": 19,
     "metadata": {},
     "output_type": "execute_result"
    }
   ],
   "source": [
    "from torch_geometric.utils import *\n",
    "one_hot(cora[0].y).shape"
   ]
  },
  {
   "cell_type": "code",
   "execution_count": 20,
   "metadata": {},
   "outputs": [
    {
     "data": {
      "text/plain": [
       "7"
      ]
     },
     "execution_count": 20,
     "metadata": {},
     "output_type": "execute_result"
    }
   ],
   "source": [
    "cora.num_classes"
   ]
  },
  {
   "cell_type": "code",
   "execution_count": 21,
   "metadata": {},
   "outputs": [
    {
     "data": {
      "text/plain": [
       "'torch.LongTensor'"
      ]
     },
     "execution_count": 21,
     "metadata": {},
     "output_type": "execute_result"
    }
   ],
   "source": [
    "cora[0].edge_index.type()"
   ]
  },
  {
   "cell_type": "code",
   "execution_count": 22,
   "metadata": {},
   "outputs": [
    {
     "data": {
      "text/plain": [
       "tensor([False, False, False,  ..., False, False, False])"
      ]
     },
     "execution_count": 22,
     "metadata": {},
     "output_type": "execute_result"
    }
   ],
   "source": [
    "cora[0].val_mask"
   ]
  },
  {
   "cell_type": "code",
   "execution_count": 23,
   "metadata": {},
   "outputs": [
    {
     "data": {
      "text/plain": [
       "2708"
      ]
     },
     "execution_count": 23,
     "metadata": {},
     "output_type": "execute_result"
    }
   ],
   "source": [
    "cora[0].x.shape[0]"
   ]
  },
  {
   "cell_type": "code",
   "execution_count": 24,
   "metadata": {},
   "outputs": [],
   "source": [
    "\n",
    "def get_mask_ratio(data,ratio,rnd=None):\n",
    "    \"\"\"\n",
    "    固定种子生成mask\n",
    "    \"\"\"\n",
    "    j = 0\n",
    "    for i in ratio:\n",
    "        j+=i\n",
    "    assert j==1 and len(ratio)==3\n",
    "    # train,test,val\n",
    "    num_nodes = data.x.shape[0]\n",
    "    masks = []\n",
    "    for i in ratio:\n",
    "        masks.append(int(num_nodes*i))\n",
    "    if sum(masks)!=num_nodes:\n",
    "        masks[-1]=num_nodes-masks[0]-masks[1]\n",
    "    rnd_index = []\n",
    "    for i in range(num_nodes):\n",
    "        rnd_index.append(i)\n",
    "    if rnd:\n",
    "        random.seed(rnd)\n",
    "        random.shuffle(rnd_index)\n",
    "    train_d,test_d,val_d = rnd_index[:masks[0]],rnd_index[masks[0]:masks[0]+masks[1]],rnd_index[masks[0]+masks[1]:]\n",
    "    print(f\"Splitting {num_nodes} nodes into {masks}\")\n",
    "    train_mask= torch.BoolTensor([False]*num_nodes)\n",
    "    test_mask= torch.BoolTensor([False]*num_nodes)\n",
    "    val_mask = torch.BoolTensor([False]*num_nodes)\n",
    "    for i in train_d:\n",
    "        train_mask[i] = True\n",
    "    for i in test_d:\n",
    "        test_mask[i] = True\n",
    "    for i in val_d:\n",
    "        val_mask[i] = True\n",
    "    return (train_mask,test_mask,val_mask)\n",
    " "
   ]
  },
  {
   "cell_type": "code",
   "execution_count": 25,
   "metadata": {},
   "outputs": [
    {
     "name": "stdout",
     "output_type": "stream",
     "text": [
      "Splitting 7650 nodes into [5355, 918, 1377]\n"
     ]
    },
    {
     "data": {
      "text/plain": [
       "Data(x=[7650, 745], edge_index=[2, 238162], y=[7650])"
      ]
     },
     "execution_count": 25,
     "metadata": {},
     "output_type": "execute_result"
    }
   ],
   "source": [
    "import random,torch\n",
    "temp = get_mask_ratio(amazon[0],(0.7,0.12,0.18),1)\n",
    "amazon[0].test_mask = temp[0]\n",
    "amazon[0]"
   ]
  },
  {
   "cell_type": "code",
   "execution_count": 26,
   "metadata": {},
   "outputs": [
    {
     "data": {
      "text/plain": [
       "Data(x=[7650, 745], edge_index=[2, 238162], y=[7650], train_mask=[7650], val_mask=[7650], test_mask=[7650])"
      ]
     },
     "execution_count": 26,
     "metadata": {},
     "output_type": "execute_result"
    }
   ],
   "source": [
    "from torch_geometric import transforms as T\n",
    "transform = T.RandomNodeSplit(split=\"train_rest\",num_val=100,num_test=100)\n",
    "data = amazon[0]\n",
    "data = transform(data)\n",
    "data\n"
   ]
  },
  {
   "cell_type": "code",
   "execution_count": 27,
   "metadata": {},
   "outputs": [
    {
     "data": {
      "text/plain": [
       "Data(x=[7650, 745], edge_index=[2, 238162], y=[7650])"
      ]
     },
     "execution_count": 27,
     "metadata": {},
     "output_type": "execute_result"
    }
   ],
   "source": [
    "x = amazon.copy()\n",
    "x[0]"
   ]
  },
  {
   "cell_type": "code",
   "execution_count": 28,
   "metadata": {},
   "outputs": [],
   "source": [
    "def node_split(data,num_val=100,num_test=100):\n",
    "    from torch_geometric import transforms as T\n",
    "    transform = T.RandomNodeSplit(split=\"train_rest\",num_val=num_val,num_test=num_test)\n",
    "    return transform(data)"
   ]
  },
  {
   "cell_type": "code",
   "execution_count": 29,
   "metadata": {},
   "outputs": [
    {
     "data": {
      "text/plain": [
       "2000"
      ]
     },
     "execution_count": 29,
     "metadata": {},
     "output_type": "execute_result"
    }
   ],
   "source": [
    "reddit=datasets.TUDataset(root=root,name=\"REDDIT-BINARY\")\n",
    "reddit.len()"
   ]
  },
  {
   "cell_type": "code",
   "execution_count": 30,
   "metadata": {},
   "outputs": [
    {
     "data": {
      "text/plain": [
       "Data(edge_index=[2, 480], y=[1], num_nodes=218)"
      ]
     },
     "execution_count": 30,
     "metadata": {},
     "output_type": "execute_result"
    }
   ],
   "source": [
    "reddit[0]"
   ]
  },
  {
   "cell_type": "code",
   "execution_count": 31,
   "metadata": {},
   "outputs": [],
   "source": [
    "\n",
    "def get_mask_ratio(data,ratio,rnd=None):\n",
    "    \"\"\"\n",
    "    固定种子生成mask\n",
    "    \"\"\"\n",
    "    j = 0\n",
    "    for i in ratio:\n",
    "        j+=i\n",
    "    assert j==1 and len(ratio)==3\n",
    "    # train,test,val\n",
    "    num_nodes = data.x.shape[0]\n",
    "    masks = []\n",
    "    for i in ratio:\n",
    "        masks.append(int(num_nodes*i))\n",
    "    if sum(masks)!=num_nodes:\n",
    "        masks[-1]=num_nodes-masks[0]-masks[1]\n",
    "    rnd_index = []\n",
    "    for i in range(num_nodes):\n",
    "        rnd_index.append(i)\n",
    "    if rnd:\n",
    "        random.seed(rnd)\n",
    "        random.shuffle(rnd_index)\n",
    "    train_d,test_d,val_d = rnd_index[:masks[0]],rnd_index[masks[0]:masks[0]+masks[1]],rnd_index[masks[0]+masks[1]:]\n",
    "    print(f\"Splitting {num_nodes} nodes into {masks}\")\n",
    "    train_mask= torch.BoolTensor([False]*num_nodes)\n",
    "    test_mask= torch.BoolTensor([False]*num_nodes)\n",
    "    val_mask = torch.BoolTensor([False]*num_nodes)\n",
    "    for i in train_d:\n",
    "        train_mask[i] = True\n",
    "    for i in test_d:\n",
    "        test_mask[i] = True\n",
    "    for i in val_d:\n",
    "        val_mask[i] = True\n",
    "    return (train_mask,test_mask,val_mask)\n",
    "  \n",
    "\n",
    "def get_mask_nums(data,nums,rnd=None):\n",
    "    \"\"\"\n",
    "    固定种子生成mask\n",
    "    \"\"\"\n",
    "    # train,test,val\n",
    "    num_nodes = data.x.shape[0]\n",
    "    masks = nums\n",
    "    rnd_index = []\n",
    "    for i in range(num_nodes):\n",
    "        rnd_index.append(i)\n",
    "    if rnd:\n",
    "        random.seed(rnd)\n",
    "        random.shuffle(rnd_index)\n",
    "    train_d,test_d,val_d = rnd_index[:masks[0]],rnd_index[masks[0]:masks[0]+masks[1]],rnd_index[masks[0]+masks[1]:]\n",
    "    print(f\"Splitting {num_nodes} nodes into {masks}\")\n",
    "    train_mask= torch.BoolTensor([False]*num_nodes)\n",
    "    test_mask= torch.BoolTensor([False]*num_nodes)\n",
    "    val_mask = torch.BoolTensor([False]*num_nodes)\n",
    "    for i in train_d:\n",
    "        train_mask[i] = True\n",
    "    for i in test_d:\n",
    "        test_mask[i] = True\n",
    "    for i in val_d:\n",
    "        val_mask[i] = True\n",
    "    return (train_mask,test_mask,val_mask)\n",
    "\n"
   ]
  },
  {
   "cell_type": "code",
   "execution_count": 5,
   "metadata": {},
   "outputs": [
    {
     "data": {
      "text/plain": [
       "'Yes'"
      ]
     },
     "execution_count": 5,
     "metadata": {},
     "output_type": "execute_result"
    }
   ],
   "source": [
    "class test():\n",
    "    def __init__(self) -> None:\n",
    "        self.node = 1\n",
    "        self.get_node(self.node)\n",
    "        \n",
    "\n",
    "    def get_node(self,node):\n",
    "        node = 'Yes'\n",
    "        return node\n",
    "\n",
    "gg = test()\n",
    "gg.get_node(gg.node)"
   ]
  },
  {
   "cell_type": "code",
   "execution_count": 1,
   "metadata": {},
   "outputs": [
    {
     "data": {
      "text/plain": [
       "[8, 9]"
      ]
     },
     "execution_count": 1,
     "metadata": {},
     "output_type": "execute_result"
    }
   ],
   "source": [
    "a=[1,2,3,4,5,6,7,8,9]\n",
    "a[-2:]"
   ]
  }
 ],
 "metadata": {
  "kernelspec": {
   "display_name": "mygcn",
   "language": "python",
   "name": "python3"
  },
  "language_info": {
   "codemirror_mode": {
    "name": "ipython",
    "version": 3
   },
   "file_extension": ".py",
   "mimetype": "text/x-python",
   "name": "python",
   "nbconvert_exporter": "python",
   "pygments_lexer": "ipython3",
   "version": "3.8.17"
  },
  "orig_nbformat": 4
 },
 "nbformat": 4,
 "nbformat_minor": 2
}
